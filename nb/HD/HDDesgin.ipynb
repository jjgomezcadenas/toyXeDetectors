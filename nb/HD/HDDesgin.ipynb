{
 "cells": [
  {
   "cell_type": "code",
   "execution_count": 2,
   "id": "5b666063-09c8-46e5-bf94-cf6cca5825c0",
   "metadata": {
    "slideshow": {
     "slide_type": "skip"
    },
    "tags": []
   },
   "outputs": [
    {
     "name": "stdout",
     "output_type": "stream",
     "text": [
      "2025-01-03 14:03:39\n",
      "The autoreload extension is already loaded. To reload it, use:\n",
      "  %reload_ext autoreload\n"
     ]
    }
   ],
   "source": [
    "import os\n",
    "import sys\n",
    "import datetime\n",
    "print(datetime.datetime.now().strftime('%Y-%m-%d %H:%M:%S'))\n",
    "\n",
    "module_dir = os.path.abspath('../../pynextsw/')  # Adjust path as needed\n",
    "sys.path.append(module_dir)\n",
    "\n",
    "import time\n",
    "import glob\n",
    "import tables as tb\n",
    "import numpy as np\n",
    "import pandas as pd\n",
    "import matplotlib.pyplot as plt\n",
    "import matplotlib.image as mpimg\n",
    "\n",
    "from functools import reduce\n",
    "import numpy.testing as npt\n",
    "from operator import itemgetter, attrgetter\n",
    "%matplotlib inline\n",
    "%load_ext autoreload\n",
    "%autoreload 2\n",
    "\n",
    "plt.rcParams[\"figure.figsize\"] = 10, 8\n",
    "plt.rcParams[\"font.size\"     ] = 14\n",
    "pd.options.display.float_format = '{:.2g}'.format"
   ]
  },
  {
   "cell_type": "code",
   "execution_count": 3,
   "id": "66d6981f-125d-4fbe-bb0e-da9efc6f1898",
   "metadata": {
    "slideshow": {
     "slide_type": "skip"
    },
    "tags": []
   },
   "outputs": [],
   "source": [
    "from pynext.system_of_units import *"
   ]
  },
  {
   "cell_type": "code",
   "execution_count": 4,
   "id": "67121c64-9353-4e0a-b789-5710549574f9",
   "metadata": {
    "slideshow": {
     "slide_type": "skip"
    },
    "tags": []
   },
   "outputs": [],
   "source": [
    "import pynext.pynext_types as pn\n",
    "from pynext.CylinderGeomEff import barrel_detection_efficiency"
   ]
  },
  {
   "cell_type": "code",
   "execution_count": 42,
   "id": "0512f347-e439-4730-923c-83bf66fc25c9",
   "metadata": {
    "slideshow": {
     "slide_type": "skip"
    },
    "tags": []
   },
   "outputs": [],
   "source": [
    "\n",
    "    \n",
    "def set_fonts(ax, fontsize=20):\n",
    "    for item in ([ax.title, ax.xaxis.label, ax.yaxis.label] +\n",
    "             ax.get_xticklabels() + ax.get_yticklabels()):\n",
    "        item.set_fontsize(fontsize)\n",
    "\n",
    "def plotxy(xx, yy, xl, yl, tit, color='r', label=\"\", figsize=(6,4)):\n",
    "    fig, axs = plt.subplots(1, 1, figsize=figsize)\n",
    "    axs.plot(xx, yy, color, label=label)\n",
    "    axs.legend()\n",
    "    axs.grid()\n",
    "    axs.set_title(tit)\n",
    "    axs.set_xlabel(xl)\n",
    "    axs.set_ylabel(yl)\n",
    "    fig.tight_layout()\n"
   ]
  },
  {
   "cell_type": "markdown",
   "id": "8bcb72ac-045e-47c9-93b1-8294252f146b",
   "metadata": {
    "slideshow": {
     "slide_type": "slide"
    },
    "tags": []
   },
   "source": [
    "# Paths to HD/BOLD Detectors\n",
    "\n",
    "JJ, NEXT-CM, January 2025"
   ]
  },
  {
   "cell_type": "markdown",
   "id": "af27c606-0173-4017-b057-c78d679944ed",
   "metadata": {
    "slideshow": {
     "slide_type": "slide"
    },
    "tags": []
   },
   "source": [
    "## HD Design Drivers\n",
    "\n",
    "- **Physics**\n",
    "\n",
    "    - Best possible energy resolution (imply best possible calibration)\n",
    "    - Performance of topological signature (physics, diffusion, pitch).\n",
    "    \n",
    "- **Radiopurity** \n",
    "    - Dominated by copper\n",
    "    - Minimize radioactive budget inside the copper shield. \n",
    "    \n",
    "- **BOLD constrains**\n",
    "    - Use of TPB disfavoured (Is there a quantitative argument?)\n",
    "\n",
    "- **Practical**\n",
    "    - Cost & Complexity\n",
    "    - Expanding collaboration \n",
    "    \n"
   ]
  },
  {
   "cell_type": "markdown",
   "id": "9d750a5d-2b8b-4644-ba94-63026f2297a1",
   "metadata": {
    "slideshow": {
     "slide_type": "slide"
    },
    "tags": []
   },
   "source": [
    "## Baseline HD (BHD) design \n",
    "\n",
    "- TPB allowed. \n",
    "\n",
    "- Operating conditions: T = 20 C, P= 15-20 bar. \n",
    "\n",
    "- Tracking plane. Can be sparse (**STP**) o dense (**DTP**). \n",
    "    - Both STP and DTP can perform the tracking function. \n",
    "    - DTP can measure energy (and S1) better than STP.\n",
    "\n",
    "- Barrel Fiber Detector (**BFD**) readout by cooled SiPMs.  \n",
    "    - BFD can measure energy and S1. \n",
    "\n"
   ]
  },
  {
   "cell_type": "markdown",
   "id": "6fb6e29d-f901-4751-bb30-41655ceddc8f",
   "metadata": {
    "slideshow": {
     "slide_type": "slide"
    },
    "tags": []
   },
   "source": [
    "## Ultra Violet HD (UVHD)\n",
    "\n",
    "- No TPB allowed. This leads naturally to a detector based on \"VUV SiPMs\" (**vSiPMs**).\n",
    "\n",
    "- The most feasible option is a detector with two DTPs (one per anode) which perform tracking, measure the energy and measure S1.  \n"
   ]
  },
  {
   "cell_type": "markdown",
   "id": "31794171-8c26-41e2-a21d-5cfeedbec3a2",
   "metadata": {
    "slideshow": {
     "slide_type": "slide"
    },
    "tags": []
   },
   "source": [
    "## Dark Current considerations\n",
    "\n",
    "- Let us examine first the dependence of the dark current, DC (expressed as a dark rate) of SiPMs with temperature.\n",
    "- We take as model the modern, low DC, Hamamatsu data S13360 series\n"
   ]
  },
  {
   "cell_type": "code",
   "execution_count": 50,
   "id": "38317f3e-3583-41f4-9b87-5ef6b61d7e4e",
   "metadata": {
    "slideshow": {
     "slide_type": "skip"
    },
    "tags": []
   },
   "outputs": [],
   "source": [
    "xx = np.arange(-100, 20, 0.1)\n",
    "yy = pn.logdc_vs_t(xx)\n",
    "\n",
    "\n",
    "# Plot data and fitted line\n",
    "def plot_dc():\n",
    "    fig, axs = plt.subplots(1, 1, figsize=(6,4))\n",
    "    axs.scatter(pn.tC, pn.ldR, label='Data')\n",
    "    axs.plot(pn.tC, pn.y_fit, 'r-', label='Fitted line')\n",
    "    axs.plot(xx, yy, 'g-', label='log(dc)')\n",
    "    axs.legend()\n",
    "    axs.grid()\n",
    "    axs.set_title(\"Dependence of DC with Temperature (Hamamatsu S13360 series)\")\n",
    "    axs.set_xlabel(\"T (C)\")\n",
    "    axs.set_ylabel(\"log(dC) in kHz\")\n",
    "    fig.tight_layout()\n"
   ]
  },
  {
   "cell_type": "code",
   "execution_count": 51,
   "id": "be021580-1fd4-4741-9e68-350bef6af7cd",
   "metadata": {
    "slideshow": {
     "slide_type": "slide"
    },
    "tags": []
   },
   "outputs": [
    {
     "data": {
      "image/png": "[encoded data removed]",
      "text/plain": [
       "<Figure size 600x400 with 1 Axes>"
      ]
     },
     "metadata": {},
     "output_type": "display_data"
    }
   ],
   "source": [
    "plot_dc()"
   ]
  },
  {
   "cell_type": "markdown",
   "id": "fba2ec99-6e3d-4ed0-9638-dd13350636b3",
   "metadata": {
    "slideshow": {
     "slide_type": "slide"
    },
    "tags": []
   },
   "source": [
    "## Operating temperature and pressure\n",
    "\n",
    "- For this discussion I will assume that HD operated at P=20 bar, T= 20C. Notice that the density of the gas in this case is the same than when operating the detector at P=15 bar, T=-40C.  \n",
    "- At P=20 bar, T= 20C, a detector of R= 110 cm and L/2 = 110 cm (e.g, the length of one of the two symmetric TPCs) has a total mass of 1040 kg\n",
    "- With these dimensions, the area to be instrumented is 3.8 m$^2$ per DSP, that is a total of 7.6 m$^2$, e.g., almost twice the area required by nEXO. "
   ]
  },
  {
   "cell_type": "code",
   "execution_count": 27,
   "id": "46a1f2a0-cfef-40db-a517-84634bf559dc",
   "metadata": {
    "slideshow": {
     "slide_type": "subslide"
    },
    "tags": []
   },
   "outputs": [
    {
     "name": "stdout",
     "output_type": "stream",
     "text": [
      "\n",
      "        Configuration  = xe_2020\n",
      "        density (rho)  =    0.12 g/cm3\n",
      "        mass           = 1039.51  kg\n",
      "        Cylinder       = \n",
      "        Cylinder: radius =1100.0 mm, length = 2200.0 mm\n",
      "        \n",
      "    \n",
      "area of barrel = 15.21 m2\n",
      "area of end-caps = 3.80 m2\n"
     ]
    }
   ],
   "source": [
    "Rg   = 110 * cm\n",
    "zmin = -110 * cm\n",
    "zmax = 110 * cm\n",
    "cl = pn.Cylinder(Rg, zmin, zmax)\n",
    "hdxe = pn.TpcXe(cl, \"xe_2020\")\n",
    "print(hdxe)\n",
    "print(f\"area of barrel = {hdxe.cyl.area_barrel/m2:.2f} m2\")\n",
    "print(f\"area of end-caps = {hdxe.cyl.area_endcap/m2:.2f} m2\")\n"
   ]
  },
  {
   "cell_type": "markdown",
   "id": "39b1849b-eabb-43ac-aef5-dfbbea8cfe5d",
   "metadata": {
    "slideshow": {
     "slide_type": "slide"
    },
    "tags": []
   },
   "source": [
    "## EL Parameters\n",
    "- A higher pressure (density) is is enough with E/P ~1.5 to achieve an amplification gain ~1000. \n",
    "- The high voltages are challenging (~15 kV in the grid and 75 kV in the cathode), but can presumably be achieved, with enough R&D"
   ]
  },
  {
   "cell_type": "code",
   "execution_count": 28,
   "id": "5ded6549-e9ce-4a5c-8478-a297e787ee4e",
   "metadata": {
    "slideshow": {
     "slide_type": "subslide"
    },
    "tags": []
   },
   "outputs": [
    {
     "data": {
      "text/plain": [
       "\n",
       "        E/P =    1.50 kV * cm^-1* bar^-1\n",
       "        dV = drift voltage =    0.50 kV * cm^-1\n",
       "        P  = pressure =   20.00 bar\n",
       "        d  = EL grid gap =    5.00 mm\n",
       "        L  = drift lenght =   1.20 m\n",
       "        Grid voltage =   15.00 kV\n",
       "        Cathode voltage =   75.00 kV\n",
       "        Yield =  9.40e+02 photons/e\n",
       "\n",
       "    \n",
       "        Primary scintillation photons per MeV = 2.55e+04\n",
       "        Primary ionization electrons per MeV = 4.57e+04\n",
       "        EL photons per MeV                   = 4.29e+07\n",
       "        \n",
       "        Primary scintillation Krypton = 1.06e+03\n",
       "        Primary ionization electrons Krypton = 1.89e+03\n",
       "        EL photons Krypton                   = 1.78e+06\n",
       "        \n",
       "        Primary scintillation Qbb = 6.27e+04\n",
       "        Primary ionization electrons Qbb = 1.12e+05\n",
       "        EL photons Qbb                   = 1.06e+08\n",
       "        "
      ]
     },
     "execution_count": 28,
     "metadata": {},
     "output_type": "execute_result"
    }
   ],
   "source": [
    "EP  = 1.5 * kilovolt / (cm * bar)\n",
    "dV  = 0.5 * kilovolt / cm\n",
    "P   =  20 * bar\n",
    "d   =  5 * mm\n",
    "L   = 120 * cm\n",
    "Ws  =  39.2 * eV\n",
    "Wi  =  21.9 * eV\n",
    "hdel = pn.TpcEL(EP, dV, P, d, L, Ws, Wi)\n",
    "hdel"
   ]
  },
  {
   "cell_type": "markdown",
   "id": "4315692a-9c76-4fa6-8d50-c32bd322a2eb",
   "metadata": {},
   "source": [
    "## Cooling the SiPMs in VUVHD\n",
    "\n",
    "- The number of SiPMs in VUVHD is ~$3.8 \\times 10^4$~per DSP plane, assuming that the detector is fully tiled. Assuming 2 mW per channel for the readout ASIC the dissipated power is 152 W (to compare with 100 W design specs for nEXO).\n",
    "\n",
    "- At the same time, the SiPMs need to operate at low temperature to reduce dcR to reasonsable values. Ideally one would like to see the Krypton S1 signal, in particular in the case of a DTP with filling factor substantially less than one, for calibration purposes. If this is not possible, one should see at least the signal from Na-22 sources (511 keV).  \n"
   ]
  },
  {
   "cell_type": "markdown",
   "id": "0972e057-40fc-4968-b061-6f5023659fd1",
   "metadata": {
    "slideshow": {
     "slide_type": "slide"
    },
    "tags": []
   },
   "source": [
    "## The DTP\n",
    "- We will consider first a DTP fully tiling up the anode(s), made of vSiPMs of 10 x 10 mm2 at a pitch of 10 mm. The PDE corresponds to the last generation of Hamamatsu SiPMs (PDE = 30 %). \n",
    "- The DTP has 3.8 x 10$^4$ SiPMs per Plane covering an area of 3.8 x 10$^6$ mm2. \n",
    "- The DC at t = -40 C is 91 counts per window of 500 ns (S1 detection window) and per DTP. At -30 C DC is 261 counts per plane and at T=-20 is 757 counts per plane.\n",
    "- A rough estimation of the geometrical efficiency (neglecting reflections in the barrel, assuming VUV light) is ~15 %\n",
    "- A rough estimation of the transparency of the grids is 90%. Since VUV light needs to go through 2 grids, the overal transparency will be 80 %. \n",
    "- Finally, the PDE of the SiPMs is 30 \\%. Thus the total light transport efficiency is ~3.5 % \n",
    "- This assumes that both DTPs are used to record S1 (and thus one has to add the DC of the two DTPs)."
   ]
  },
  {
   "cell_type": "code",
   "execution_count": 29,
   "id": "2ce50fdc-7019-4e6d-91fe-f1baaf009e42",
   "metadata": {
    "slideshow": {
     "slide_type": "subslide"
    },
    "tags": []
   },
   "outputs": [
    {
     "data": {
      "text/plain": [
       "\n",
       "        sensor =s10x10, size = 10.0 mm, PDE = 0.3\n",
       "        DCR per u.a. (tC = 20C) = 2.8e+04 Hz/mm2;\n",
       "        DCR per u.a time window (tC = 20C, t=500 ns) = 0.014 cs/mm2;\n",
       "        "
      ]
     },
     "execution_count": 29,
     "metadata": {},
     "output_type": "execute_result"
    }
   ],
   "source": [
    "vsipm = pn.SiPM(\"s10x10\", 10*mm, 0.3) \n",
    "vsipm"
   ]
  },
  {
   "cell_type": "code",
   "execution_count": 33,
   "id": "91b6c167-d8e0-40f3-aad0-db2afad68677",
   "metadata": {
    "slideshow": {
     "slide_type": "subslide"
    },
    "tags": []
   },
   "outputs": [
    {
     "data": {
      "text/plain": [
       "\n",
       "        DTP: Fill factor = 1.0\n",
       "        area = 3.8e+06 mm2, number of SiPMs = 3.8e+04\n",
       "        SiPMs: \n",
       "        sensor =s10x10, size = 10.0 mm, PDE = 0.3\n",
       "        DCR per u.a. (tC = 20C) = 2.8e+04 Hz/mm2;\n",
       "        DCR per u.a time window (tC = 20C, t=500 ns) = 0.014 cs/mm2;\n",
       "        \n",
       "        DCR  (tC = 20C) = 1.1e+11 Hz;\n",
       "        DCR  time window (tC = 20C, t=500 ns) = 5.3e+04 counts;\n",
       "        \n",
       "        "
      ]
     },
     "execution_count": 33,
     "metadata": {},
     "output_type": "execute_result"
    }
   ],
   "source": [
    "dtp = pn.DTP(vsipm, Rg, 1.0)\n",
    "dtp"
   ]
  },
  {
   "cell_type": "code",
   "execution_count": 56,
   "id": "a4ae9815-6fd7-4754-bf66-993865f8667b",
   "metadata": {
    "slideshow": {
     "slide_type": "subslide"
    },
    "tags": []
   },
   "outputs": [
    {
     "name": "stdout",
     "output_type": "stream",
     "text": [
      "eff_barrel = 0.8536776763694542\n",
      "eff_endcup = 0.14632232363054576\n",
      "Transport efficiency for the DTP = 0.03555632464222262\n"
     ]
    }
   ],
   "source": [
    "Lhalf = (zmax - zmin) / 2\n",
    "eff_barrel = barrel_detection_efficiency(Rg, Lhalf) # L in the equation is semilength \n",
    "eff_ecup = 1 - eff_barrel\n",
    "print(f\"eff_barrel = {eff_barrel}\")\n",
    "print(f\"eff_endcup = {eff_ecup}\")\n",
    "eff_mesh = 0.9\n",
    "eff_tot = eff_mesh**2*eff_ecup*vsipm.pde\n",
    "print(f\"Transport efficiency for the DTP = {eff_tot}\")"
   ]
  },
  {
   "cell_type": "code",
   "execution_count": 54,
   "id": "536f19cf-9a32-4ce5-87cb-03905859c70d",
   "metadata": {
    "slideshow": {
     "slide_type": "skip"
    },
    "tags": []
   },
   "outputs": [],
   "source": [
    "tt = np.arange(-50, 0, 0.1)\n",
    "dc = dtp.dcr_sipm_per_time(tt, 500*ns)\n",
    "l1 = f\"dcr (T=-20) = {dtp.dcr_sipm_per_time(-20, 500*ns):.2f}\\n\"\n",
    "l2 = f\"dcr (T=-30) = {dtp.dcr_sipm_per_time(-30, 500*ns):.2f}\\n\"\n",
    "l3 = f\"dcr (T=-40) = {dtp.dcr_sipm_per_time(-40, 500*ns):.2f}\\n\"\n"
   ]
  },
  {
   "cell_type": "code",
   "execution_count": 53,
   "id": "794a74c2-8f66-4e11-86a2-7fc436abe3a3",
   "metadata": {
    "slideshow": {
     "slide_type": "slide"
    },
    "tags": []
   },
   "outputs": [
    {
     "data": {
      "image/png": "[encoded data removed]",
      "text/plain": [
       "<Figure size 600x400 with 1 Axes>"
      ]
     },
     "metadata": {},
     "output_type": "display_data"
    }
   ],
   "source": [
    "plotxy(tt, dc,  \"T (C)\", \"DC (pes)\", \"Total DC/sample (500ns) in DTP\",\n",
    "      label=l1+l2+l3)"
   ]
  },
  {
   "cell_type": "code",
   "execution_count": 55,
   "id": "9f0a325b-12bf-46bd-abff-2dc6ae91059c",
   "metadata": {
    "slideshow": {
     "slide_type": "subslide"
    },
    "tags": []
   },
   "outputs": [
    {
     "name": "stdout",
     "output_type": "stream",
     "text": [
      "\n",
      "        gas pressure  =   20.00 bar\n",
      "        gas density   =    0.12 g/cm3\n",
      "        gas mass      = 1039.51  kg\n",
      "\n",
      "        Dimensions(Cylinder)  = \n",
      "        Cylinder: radius =1100.0 mm, length = 2200.0 mm\n",
      "        \n",
      "\n",
      "        Light efficiency (s1) = 3.56 %\n",
      "        Light efficiency (s2) = 13.50 %\n",
      "        SiPM PDE          = 0.30\n",
      "        SiPM size         = 10.00 mm\n",
      "        Sampling S1       = 500.00 ns\n",
      "\n",
      "        Primary scintillation Krypton          = 1.06e+03\n",
      "        EL photons Krypton                     = 1.78e+06\n",
      "        Primary scintillation Qbb              = 6.27e+04\n",
      "        EL photons Qbb                         = 1.06e+08\n",
      "\n",
      "        Primary scintillation Krypton detected = 3.76e+01\n",
      "        EL photons Krypton detected            = 2.40e+05\n",
      "        Primary scintillation Qbb detected     = 2.23e+03\n",
      "        EL photons Qbb detected                = 1.42e+07\n",
      "\n",
      "\n",
      "        Number of DCR photons in the detector for:\n",
      "         --operating temperature (-40.00 C)\n",
      "         --sampling time of 500.00\n",
      "         -- nDCR = 181.30\n",
      "        \n",
      "Primary scintillation 511 keV detected = 4.64e+02\n"
     ]
    }
   ],
   "source": [
    "hdtp = pn.DTPDetector(hdel, hdxe, dtp, eff_grid=0.9, sampling=500*ns, tempC=-40)\n",
    "print(hdtp)\n",
    "print(f\"Primary scintillation 511 keV detected = {hdtp.tpcel.scintillation_photons(511 * keV)* hdtp.efficiency_s1:.2e}\")"
   ]
  },
  {
   "cell_type": "markdown",
   "id": "003e3163-bb37-4003-aa30-653295898e1b",
   "metadata": {
    "slideshow": {
     "slide_type": "slide"
    },
    "tags": []
   },
   "source": [
    "## VUVHD requires cold gas operation\n",
    "\n",
    "- The S1 signal detected for krypton is ~38 pes, and for Na22 (511 keV) 464 pes\n",
    "- Thus, Kr cannot be observed at -40 C, but 511 keV from Na-22 can be observed with S/N~2.5. At higher temperatures Na22 cannot be observed.\n",
    "- Thus, the minimum operating temperature for the SiPMs is -40 C.\n",
    "- With a power dissipation of 150 W and the requirement to cool uniformly ~80k SiPMs to -40 C, the most realistic option is operation with cold gas."
   ]
  },
  {
   "cell_type": "markdown",
   "id": "3c1240af-0baf-48f5-abe8-b1822004c45b",
   "metadata": {
    "slideshow": {
     "slide_type": "slide"
    },
    "tags": []
   },
   "source": [
    "## Pressure vs Density as a function of temperature \n",
    "- When considering cool gas one has to take into account two factors. The curves of density versus pressure for a given temperature, and the pressure at which the gas becomes liquid for a given temperature.\n",
    "- At T = -50 C, gas becomes liquid above 10 bar. At 10 bar the density is 80 kg/m3, which is equivalent to a pressure of 14 bar at T = 20C.\n",
    "- At T = -40 C, gas becomes liquid above 15 bar. At 15 bar the density is 126 kg/m3 which is equivalent to a pressure of 20 bar at T=20C. The gain in mass is 60 %\n",
    "- In exchange, at T = -40 C one has 12.5 % more DC than a -50. Taking into account both effects favours cooling at -40 C."
   ]
  },
  {
   "cell_type": "code",
   "execution_count": 9,
   "id": "7d0ffcc1-3b8d-46b9-8900-b69a0cfc1606",
   "metadata": {
    "slideshow": {
     "slide_type": "subslide"
    },
    "tags": []
   },
   "outputs": [
    {
     "data": {
      "image/png": "[encoded data removed]",
      "text/plain": [
       "<Figure size 1000x800 with 1 Axes>"
      ]
     },
     "metadata": {},
     "output_type": "display_data"
    }
   ],
   "source": [
    "img = mpimg.imread('xenon_p_vs_rho_minus_50.png')\n",
    "plt.imshow(img)\n",
    "plt.axis('off')  # Hide axes\n",
    "plt.show()\n"
   ]
  },
  {
   "cell_type": "code",
   "execution_count": 10,
   "id": "8b23beee-d818-4cb1-aca9-eb1e0e60ecc2",
   "metadata": {
    "slideshow": {
     "slide_type": "subslide"
    },
    "tags": []
   },
   "outputs": [
    {
     "data": {
      "image/png": "[encoded data removed]",
      "text/plain": [
       "<Figure size 1000x800 with 1 Axes>"
      ]
     },
     "metadata": {},
     "output_type": "display_data"
    }
   ],
   "source": [
    "img = mpimg.imread('xenon_p_vs_rho_minus_40.png')\n",
    "plt.imshow(img)\n",
    "plt.axis('off')  # Hide axes\n",
    "plt.show()\n"
   ]
  },
  {
   "cell_type": "code",
   "execution_count": 21,
   "id": "4d031eec-7048-4fbc-a17c-8b7835ee21bc",
   "metadata": {
    "slideshow": {
     "slide_type": "skip"
    },
    "tags": []
   },
   "outputs": [
    {
     "name": "stdout",
     "output_type": "stream",
     "text": [
      "DC/mm2 of Silicon at -40 C = 0.048 kHz/mm2\n",
      "DC/mm2 of Silicon at -50 C = 0.017 kHz/mm2\n",
      "DC ratio -40/-50 = 2.889512931355543\n",
      "Mass ratio -40/-50 = 1.5749999999999997\n"
     ]
    }
   ],
   "source": [
    "u = kHz/mm2\n",
    "dcm40 =pn.dc_mm2(-40) / u\n",
    "dcm50 =pn.dc_mm2(-50) /u\n",
    "print(f\"DC/mm2 of Silicon at -40 C = {dcm40:.2g} kHz/mm2\")\n",
    "print(f\"DC/mm2 of Silicon at -50 C = {dcm50:.2g} kHz/mm2\")\n",
    "print(f\"DC ratio -40/-50 = {dcm40/dcm50}\")\n",
    "print(f\"Mass ratio -40/-50 = {pn.rhoXe['xe_15m40'][1]/pn.rhoXe['xe_10m50'][1]}\")"
   ]
  },
  {
   "cell_type": "markdown",
   "id": "516b8cfc-8d25-47ce-b49e-1ae15c750bd5",
   "metadata": {
    "slideshow": {
     "slide_type": "slide"
    },
    "tags": []
   },
   "source": [
    "## Cost of the DTP\n",
    "- Cost of the SiPMs (estimation from Hamamatsu offer) (2.96 €/mm2). This is a total cost of 22.5 M€ for both planes.\n",
    "- Cost of the electronics and DAQ (20 €/channel) (1.5 M€)"
   ]
  },
  {
   "cell_type": "code",
   "execution_count": 57,
   "id": "624cf091-7069-486b-9178-abc74831f392",
   "metadata": {
    "slideshow": {
     "slide_type": "subslide"
    },
    "tags": []
   },
   "outputs": [
    {
     "name": "stdout",
     "output_type": "stream",
     "text": [
      "Hamamatsu: cost SiPMs 6x6  per channel = 13.94, per mm^2 = 0.39\n",
      "Hamamatsu: cost VUV SiPMs 6x6  per channel = 106.56, per mm^2 = 2.96\n",
      "Ratio VUV/Blue = 7.645739910313901\n"
     ]
    }
   ],
   "source": [
    "sipm_6x6_4x4 = 223 #e\n",
    "sipm_6x6_4x4_units = 16\n",
    "sipm_6x6_cost = sipm_6x6_4x4/sipm_6x6_4x4_units\n",
    "sipm_cost_mm2 = sipm_6x6_cost/36\n",
    "print(f\"Hamamatsu: cost SiPMs 6x6  per channel = {sipm_6x6_cost:.2f}, per mm^2 = {sipm_cost_mm2:.2f}\")\n",
    "\n",
    "sipm_6x6_4x4 = 1705 #e\n",
    "sipm_6x6_4x4_units = 16\n",
    "sipm_6x6_cost = sipm_6x6_4x4/sipm_6x6_4x4_units\n",
    "sipm_vuv_cost_mm2 = sipm_6x6_cost/36\n",
    "print(f\"Hamamatsu: cost VUV SiPMs 6x6  per channel = {sipm_6x6_cost:.2f}, per mm^2 = {sipm_vuv_cost_mm2:.2f}\")\n",
    "print(f\"Ratio VUV/Blue = {sipm_vuv_cost_mm2/sipm_cost_mm2}\")"
   ]
  },
  {
   "cell_type": "code",
   "execution_count": 58,
   "id": "6478bc3a-c37b-40e1-bb42-3d690ca49a1d",
   "metadata": {
    "slideshow": {
     "slide_type": "subslide"
    },
    "tags": []
   },
   "outputs": [
    {
     "name": "stdout",
     "output_type": "stream",
     "text": [
      "cost of DTP silicon (2 planes) 2.25e+07 €\n",
      "cost of DTP electronics) 1.52e+06 €\n"
     ]
    }
   ],
   "source": [
    "print(f\"cost of DTP silicon (2 planes) {2 * sipm_vuv_cost_mm2* hdtp.dtp.area/mm2:.2e} €\")\n",
    "print(f\"cost of DTP electronics) {2 * 20* hdtp.dtp.n_sipm:.2e} €\")"
   ]
  },
  {
   "cell_type": "markdown",
   "id": "d9931c8b-c6a6-4e05-8dbb-db4fd2864276",
   "metadata": {
    "slideshow": {
     "slide_type": "slide"
    },
    "tags": []
   },
   "source": [
    "## DTP with partial coverage\n",
    "- Consider for example SiPMs of 6 x 6 mm$^2$ at a pitch of 10 mm (36 % coverage). \n",
    "- Corrections to energy resolution to be studied. \n",
    "- Enough light to see S1 for Na22 and above (no S1 from Krypton)\n",
    "- Cost reduced to ~8M€ (+ 1.5 M€ for electronics).\n"
   ]
  },
  {
   "cell_type": "code",
   "execution_count": 68,
   "id": "54bd43c6-ac6e-4097-a0aa-ba03c9429e47",
   "metadata": {
    "slideshow": {
     "slide_type": "subslide"
    },
    "tags": []
   },
   "outputs": [
    {
     "data": {
      "text/plain": [
       "\n",
       "        DTP: Fill factor = 0.36\n",
       "        area = 3.8e+06 mm2, number of SiPMs = 3.8e+04\n",
       "        SiPMs: \n",
       "        sensor =s10x10, size = 10.0 mm, PDE = 0.3\n",
       "        DCR per u.a. (tC = 20C) = 2.8e+04 Hz/mm2;\n",
       "        DCR per u.a time window (tC = 20C, t=500 ns) = 0.014 cs/mm2;\n",
       "        \n",
       "        DCR  (tC = 20C) = 3.8e+10 Hz;\n",
       "        DCR  time window (tC = 20C, t=500 ns) = 1.9e+04 counts;\n",
       "        \n",
       "        "
      ]
     },
     "execution_count": 68,
     "metadata": {},
     "output_type": "execute_result"
    }
   ],
   "source": [
    "dtp2 = pn.DTP(vsipm, Rg, 0.36)\n",
    "dtp2"
   ]
  },
  {
   "cell_type": "code",
   "execution_count": 75,
   "id": "f13c0401-799f-4a2c-96c3-ae15c39f28d5",
   "metadata": {},
   "outputs": [
    {
     "name": "stdout",
     "output_type": "stream",
     "text": [
      "\n",
      "        gas pressure  =   20.00 bar\n",
      "        gas density   =    0.12 g/cm3\n",
      "        gas mass      = 1039.51  kg\n",
      "\n",
      "        Dimensions(Cylinder)  = \n",
      "        Cylinder: radius =1100.0 mm, length = 2200.0 mm\n",
      "        \n",
      "\n",
      "        Light efficiency (s1) = 3.56 %\n",
      "        Light efficiency (s2) = 13.50 %\n",
      "        SiPM PDE          = 0.30\n",
      "        SiPM size         = 10.00 mm\n",
      "        Sampling S1       = 500.00 ns\n",
      "\n",
      "        Primary scintillation Krypton          = 1.06e+03\n",
      "        EL photons Krypton                     = 1.78e+06\n",
      "        Primary scintillation Qbb              = 6.27e+04\n",
      "        EL photons Qbb                         = 1.06e+08\n",
      "\n",
      "        Primary scintillation Krypton detected = 1.36e+01\n",
      "        EL photons Krypton detected            = 8.66e+04\n",
      "        Primary scintillation Qbb detected     = 8.03e+02\n",
      "        EL photons Qbb detected                = 5.13e+06\n",
      "\n",
      "\n",
      "        Number of DCR photons in the detector for:\n",
      "         --operating temperature (-40.00 C)\n",
      "         --sampling time of 500.00\n",
      "         -- nDCR = 65.27\n",
      "        \n",
      "Primary scintillation 511 keV detected = 1.67e+02\n"
     ]
    }
   ],
   "source": [
    "hdtp2 = pn.DTPDetector(hdel, hdxe, dtp2, eff_grid=0.9, sampling=500*ns, tempC=-40)\n",
    "print(hdtp2)\n",
    "s1511d = hdtp2.tpcel.scintillation_photons(511 * keV)* hdtp2.efficiency_s1 *0.36\n",
    "print(f\"Primary scintillation 511 keV detected = {s1511d:.2e}\")"
   ]
  },
  {
   "cell_type": "code",
   "execution_count": 60,
   "id": "beb1e0f9-35e3-486e-b726-1f1b345de077",
   "metadata": {
    "slideshow": {
     "slide_type": "subslide"
    },
    "tags": []
   },
   "outputs": [
    {
     "name": "stdout",
     "output_type": "stream",
     "text": [
      "cost of DTP silicon (2 planes, f=0.36) 8.10e+06 €\n",
      "cost of DTP electronics) 1.52e+06 €\n"
     ]
    }
   ],
   "source": [
    "print(f\"cost of DTP silicon (2 planes, f=0.36) {2 * 0.36* sipm_vuv_cost_mm2* hdtp.dtp.area/mm2:.2e} €\")\n",
    "print(f\"cost of DTP electronics) {2 * 20* hdtp.dtp.n_sipm:.2e} €\")"
   ]
  },
  {
   "cell_type": "markdown",
   "id": "5ece4043-e7b8-43e4-9cfa-a03dd74e7ccf",
   "metadata": {
    "slideshow": {
     "slide_type": "slide"
    },
    "tags": []
   },
   "source": [
    "## Cost of the Sparse (Blue) Tracking Plane\n",
    "- For reference, the sparse tracking plane (STP) using blue SiPMs coated with TPB requires 100 timess less silicon area, than the fully tiled DTP, uses cheaper SiPMs and requires cheaper electronics (~10 €/channel).\n",
    "- The cost of the SiPMs is reduced to ~30 k€\n",
    "- The cost of the electronics becomes dominant ~700 k€\n",
    "- The total cost is <1 M€ "
   ]
  },
  {
   "cell_type": "code",
   "execution_count": 107,
   "id": "c3d2569a-6233-47b2-a37c-68c38f35fb9b",
   "metadata": {
    "slideshow": {
     "slide_type": "subslide"
    },
    "tags": []
   },
   "outputs": [
    {
     "name": "stdout",
     "output_type": "stream",
     "text": [
      "cost of STP silicon (2 planes, f=0.1) 2.94e+04 €\n",
      "cost of DTP electronics) 7.60e+05 €\n"
     ]
    }
   ],
   "source": [
    "print(f\"cost of STP silicon (2 planes, f=0.1) {2 * 0.01* sipm_cost_mm2* hdtp.dtp.area/mm2:.2e} €\")\n",
    "print(f\"cost of DTP electronics) {2 * 10* hdtp.dtp.n_sipm:.2e} €\")"
   ]
  },
  {
   "cell_type": "markdown",
   "id": "89cf1af3-d100-4821-854e-f9237b948217",
   "metadata": {
    "slideshow": {
     "slide_type": "slide"
    },
    "tags": []
   },
   "source": [
    "## DTP Requirements and implications for the ASIC\n",
    "- Observe S1 from Na-22 onwards. This requires extracting the full waveform (without ZS) from each one of the ~80K SiPMs. \n",
    "- Measure energy with excelent resolution from S2. This requires spe calibration). \n",
    "- At the same time S2 should not saturate the SiPMs."
   ]
  },
  {
   "cell_type": "markdown",
   "id": "fb423b81-5712-4ade-a408-9c96faa7facd",
   "metadata": {
    "slideshow": {
     "slide_type": "slide"
    },
    "tags": []
   },
   "source": [
    "## Measuring S1\n",
    "- The pes/SiPM in the DTP is $\\sim 4 \\times 10^{-3}$. This means that most SiPMs will not observe S1, and those who have a signal will have a single pe. These cannot be distinguished from DC counts (zero in most SiPMs) until the full waveforms from all the SiPMs are added. Given the sparse signal, ZS appears unfeasible. \n",
    "- Each event will take 11.7 GB, posing significant challenges to DAQ and storage"
   ]
  },
  {
   "cell_type": "code",
   "execution_count": 78,
   "id": "587e06c9-5eb5-43ee-b5fd-cae1efa342d5",
   "metadata": {
    "slideshow": {
     "slide_type": "subslide"
    },
    "tags": []
   },
   "outputs": [
    {
     "name": "stdout",
     "output_type": "stream",
     "text": [
      "pes/SiPM for 511 keV S1 = 4.39e-03\n",
      "dcr/SiPM for 511 keV S1 = 1.72e-03\n"
     ]
    }
   ],
   "source": [
    "nel511 = hdtp2.tpcel.scintillation_photons(511 * keV)* hdtp2.efficiency_s1 *0.36\n",
    "nS1_511PerSiPM = nel511/dtp2.n_sipm\n",
    "ndcrPerSiPM = 2*dtp2.dcr_sipm_per_time(-40, 500*ns)/dtp2.n_sipm\n",
    "print(f\"pes/SiPM for 511 keV S1 = {nS1_511PerSiPM:.2e}\")\n",
    "print(f\"dcr/SiPM for 511 keV S1 = {ndcrPerSiPM:.2e}\")"
   ]
  },
  {
   "cell_type": "code",
   "execution_count": 83,
   "id": "8a0a5aea-7c78-4753-a8e9-88ed407731a6",
   "metadata": {
    "slideshow": {
     "slide_type": "subslide"
    },
    "tags": []
   },
   "outputs": [
    {
     "name": "stdout",
     "output_type": "stream",
     "text": [
      "Data throughput = 11.7 GB\n"
     ]
    }
   ],
   "source": [
    "data = 2400 * 64 * 2 * dtp2.n_sipm/1e+9\n",
    "print(f\"Data throughput = {data:.1f} GB\")"
   ]
  },
  {
   "cell_type": "markdown",
   "id": "7523533d-c79c-4671-9761-95048005391a",
   "metadata": {},
   "source": [
    "## Dinamic range"
   ]
  },
  {
   "cell_type": "markdown",
   "id": "ae11767f-edd6-42d6-bc48-4eba45aa13c5",
   "metadata": {
    "slideshow": {
     "slide_type": "skip"
    },
    "tags": []
   },
   "source": [
    "## Interlude: S2 in SiPMs.\n",
    "\n",
    "\n",
    "For a pointlike, isotropic source of $N$ photons at distance $r$ from a detector of area $A$ (normal to the radial line), the **number of detected photons** is\n",
    "\n",
    "$$\n",
    "    N_{\\text{hits}} \\;=\\; \n",
    "    N \\,\\frac{A}{4\\pi \\,r^2}.\n",
    "$$"
   ]
  },
  {
   "cell_type": "code",
   "execution_count": 84,
   "id": "3f475b86-b852-4114-a4d4-d80b41400e57",
   "metadata": {
    "slideshow": {
     "slide_type": "skip"
    },
    "tags": []
   },
   "outputs": [],
   "source": [
    "def nhits(N, A, r):\n",
    "    return N * A /(4 * np.pi * r**2)\n",
    "def adcrange(nbits):\n",
    "    return 2**nbits -1\n",
    "\n",
    "def maxpes(nbits, adctopes):\n",
    "    return adcrange(nbits)/adctopes"
   ]
  },
  {
   "cell_type": "markdown",
   "id": "6501aa8a-af93-4748-b961-8f5adfe8df5d",
   "metadata": {
    "slideshow": {
     "slide_type": "slide"
    },
    "tags": []
   },
   "source": [
    "## Dynamic range\n",
    "- Kr is a point-like signal. After diffusion and passing through the grid, the signal is distributed in around 10 mus. Assuming we read each 0.5 mus, the signal per sample is\n",
    "$8.7 \\times 10^4/20 = 4350$ pes. Of these about 124 pes are detected by the SiPM receiving the maximum signal (here I am assuming 6 x 6 mm2). If we want a dynamic range from 1 pes (needed for S1) and 124 pes (needed for S2 Kr), we need a 12 bit ADC (with a maximum of 20 ADC counts per pes, which is rather limit when we want to detect comfortably 1 pes). \n",
    "- On the other hand, the blobs of a double electron have tipically 300 keV of energy, or 6 times the energy of the krypton. This will saturate even a 13 bits ADC. "
   ]
  },
  {
   "cell_type": "code",
   "execution_count": 100,
   "id": "8a79fd07-39ff-4116-b9e5-c505e2fb1903",
   "metadata": {
    "slideshow": {
     "slide_type": "subslide"
    },
    "tags": []
   },
   "outputs": [
    {
     "name": "stdout",
     "output_type": "stream",
     "text": [
      "pes in SiPM for kR = 124.6\n",
      "pes in SiPM for blob = 747.7\n",
      "maxpes for 12 bit ADC = 102.3\n",
      "maxpes for 12 bit ADC = 204.8\n",
      "maxpes for 13 bit ADC = 409.6\n"
     ]
    }
   ],
   "source": [
    "nkR = 8.7e+4/20\n",
    "nhkr = nhits(nkR, 36, 10)\n",
    "print(f\"pes in SiPM for kR = {nhkr:.1f}\")\n",
    "print(f\"pes in SiPM for Qbb blob = {6*nhkr:.1f}\")\n",
    "print(f\"maxpes for 12 bit ADC = {maxpes(11, 20):.1f}\")\n",
    "print(f\"maxpes for 12 bit ADC = {maxpes(12, 20):.1f}\")\n",
    "print(f\"maxpes for 13 bit ADC = {maxpes(13, 20):.1f}\")"
   ]
  },
  {
   "cell_type": "markdown",
   "id": "396ea0b8-14a4-4ab1-8648-c5a86f09ceb0",
   "metadata": {},
   "source": [
    "## Summary: VUV HD\n",
    "- The design constrain of not using TPB yields to a detector with two DTP instrumented with SiPMs. \n",
    "- The ideal scheme to measure S2 is a fully tiled DTP (as proposed by nEXO) which, however appears extremely challenging in terms of cost, power dissipation, ASIC impedance (due to the very high capacitance), dynamic range and throughput. \n",
    "- Some of these challenges are mitigated by considering smaller SiPMs (e.g., 6x6 mm2), but the impact on energy resolution need to be evaluated. The cost is reduced but still expensive (~10 M€). The problem of throughput and dynamic range still reamins. \n",
    "- Operation of the DTP requires very likely cold gas, given the large power dissipation needed and the requirement of cooling the SiPMs to -40 C. \n",
    "- Krypton S1 cannot be observed. Observation of 511 keV gammas from Na-22 is feasible but not trivial. "
   ]
  },
  {
   "cell_type": "markdown",
   "id": "c0cea810-85f5-4567-ab13-39537c906995",
   "metadata": {
    "slideshow": {
     "slide_type": "slide"
    },
    "tags": []
   },
   "source": [
    "## Veto on TPB and HD baseline\n",
    "- The veto on TPB is a (debatable) requirement for NEXT-BOLD.\n",
    "- I see no strong arguments to veto TPB in the case of NEXT-HD. On the contrary, as we will see, allowing TPB simplifies detector design and makes it very affordable. \n",
    "- The performance of HD in the search for bb0nu will depend on achieving the best possible energy resolution and topological signal, as well as reducing at maximum the radioactive budget. None of this requirements are affected by using or not TPB.\n",
    "- TPB may be a problem for BOLD (to be demonstrated), but we are very far yet to have a feasible BOLD concept. HD design should not depend on a (potential) constrain of a future (and not guaranteed) detector.  \n"
   ]
  },
  {
   "cell_type": "markdown",
   "id": "a7f8d309-63ef-476a-ba6f-a36616bfce7e",
   "metadata": {
    "slideshow": {
     "slide_type": "slide"
    },
    "tags": []
   },
   "source": [
    "## HD Baseline\n",
    "- The simplest configuration is to use a Sparse Tracking Plane (STP) similar to those already in operation in previous NEXT detectors and a Barrel of optical fibers (BFD). "
   ]
  },
  {
   "cell_type": "markdown",
   "id": "0ad034fa-4e6a-41e2-a732-4732381f10f2",
   "metadata": {
    "slideshow": {
     "slide_type": "slide"
    },
    "tags": []
   },
   "source": [
    "## The BFD\n",
    "- Made of WLSF  of 1 mm, coated with TP, readout by SiPMs. \n",
    "- Detector has ~7000 fibers readout by ~70 bSiPMs of 10 x 10 mm2\n",
    "- Enough light to detect Krypton and small DCR (can operate at -20C and still see the Krypton)\n",
    "- Total cost under 100 k€"
   ]
  },
  {
   "cell_type": "code",
   "execution_count": 101,
   "id": "5b3ed3bf-eaaf-4d71-8456-f1eb8ed3ff96",
   "metadata": {
    "slideshow": {
     "slide_type": "subslide"
    },
    "tags": []
   },
   "outputs": [
    {
     "name": "stdout",
     "output_type": "stream",
     "text": [
      "WLS(name='TBP', qeff=0.65)\n",
      "fibers: \n",
      "        diameter =1.0 mm, Q = 0.85, PTFE refl = 0.98\n",
      "        ncore = 1.6, nclad1 =1.49, nclad2 =1.42\n",
      "        Absoprtion prob at 450 nm     = 0.6692690255200586\n",
      "        Trapping efficieny            = 0.05843750000000007\n",
      "        Fiber coated with WLS         = TBP\n",
      "        WLS QE                        = 0.65\n",
      "\n",
      "    \n",
      "\n",
      "        sensor =s1mm, size = 1.0 mm, PDE = 0.5\n",
      "        DCR per u.a. (tC = 20C) = 2.8e+04 Hz/mm2;\n",
      "        DCR per u.a time window (tC = 20C, t=500 ns) = 0.014 cs/mm2;\n",
      "        \n"
     ]
    }
   ],
   "source": [
    "tpb = pn.WLS(\"TBP\", 0.65)\n",
    "print(tpb)\n",
    "fwls = pn.FiberWLS(d = 1*mm, wls = tpb, qfib = 0.85, qptfe=0.98, ncore = 1.6, nclad1 = 1.49, nclad2 = 1.42, latt = 3.5*m)\n",
    "print(f\"fibers: {fwls}\")\n",
    "# for DC calculation consider that each fiber of 1 mm diameter need 1 mm2 of silicon to be read. Thus, one can count \n",
    "# 1 sipm per fiber. In a real detector, one will use larger SiPMs to bundle many fibers. \n",
    "s1mm = pn.SiPM(name='s1mm', xsize=1*mm, PDE = 0.5) \n",
    "print(s1mm)"
   ]
  },
  {
   "cell_type": "code",
   "execution_count": 102,
   "id": "69ceaa2b-2fb0-4d22-a856-9ce2f5205ad9",
   "metadata": {
    "slideshow": {
     "slide_type": "subslide"
    },
    "tags": []
   },
   "outputs": [
    {
     "data": {
      "text/plain": [
       "\n",
       "        gas pressure  =   20.00 bar\n",
       "        gas density   =    0.12 g/cm3\n",
       "        gas mass      = 1039.51  kg\n",
       "\n",
       "        Dimensions(Cylinder)  = \n",
       "        Cylinder: radius =1100.0 mm, length = 2200.0 mm\n",
       "        \n",
       "\n",
       "        Fibers efficiency = 2.36 %\n",
       "        of which: Transport = 3.23 % & attenuation = 73.03 %\n",
       "        Total detection efficiency = 1.18 %\n",
       "        SiPM PDE          = 0.50\n",
       "        SiPM size         = 1.00 mm\n",
       "        fiber size        = 1.00 mm\n",
       "        Sampling S1       = 500.00 ns\n",
       "        number of fibers  = 6912\n",
       "\n",
       "        Primary scintillation Krypton          = 1.06e+03\n",
       "        EL photons Krypton                     = 1.78e+06\n",
       "        Primary scintillation Qbb              = 6.27e+04\n",
       "        EL photons Qbb                         = 1.06e+08\n",
       "\n",
       "        Primary scintillation Krypton detected = 1.25e+01\n",
       "        EL photons Krypton detected            = 2.10e+04\n",
       "        Primary scintillation Qbb detected     = 7.39e+02\n",
       "        EL photons Qbb detected                = 1.24e+06\n",
       "\n",
       "        Primary scintillation Krypton det/fiber = 1.81e-03\n",
       "        EL photons Krypton det/fiber            = 3.04e+00\n",
       "        Primary scintillation Qbb det/fiber     = 1.07e-01\n",
       "        EL photons Qbb det/fiber                = 1.80e+02\n",
       "\n",
       "        Number of DCR photons in the detector for:\n",
       "         --operating temperature (-20.00 C)\n",
       "         --sampling time of 500.00\n",
       "         -- nDCR = 1.38\n",
       "        "
      ]
     },
     "execution_count": 102,
     "metadata": {},
     "output_type": "execute_result"
    }
   ],
   "source": [
    "fdHD = pn.FiberDetector(hdel, hdxe, fwls, s1mm, eff_t=0.85, sampling= 500 * ns, tempC=-20)\n",
    "fdHD"
   ]
  },
  {
   "cell_type": "markdown",
   "id": "d8aa0a4c-8393-4f01-89aa-22e5c2722ab8",
   "metadata": {
    "slideshow": {
     "slide_type": "slide"
    },
    "tags": []
   },
   "source": [
    "## The STP\n",
    "- blue SiPM of 1x1 mm2, thus cost of SiPMs reduced by factor 7 (blue to VUV) x 36 (area of silicon) = 252\n",
    "- Area per SiPM is 36 times smaller than in DTP. Can observe spe, not saturating S2 with 10 bit ADC. ASIC much simplified.\n",
    "- Does not need to measure S1, thus ZS is possible. Throughput reduced by a large factor.\n",
    "- Small SiPMs, small capacitance, 10 bit ADC: Much reduced cost of electronics, simplicity and less power dissipation. \n",
    "- No cooling complications"
   ]
  },
  {
   "cell_type": "code",
   "execution_count": 105,
   "id": "2f0cd0e7-dbcf-4686-9dbe-1b2902477105",
   "metadata": {
    "slideshow": {
     "slide_type": "subslide"
    },
    "tags": []
   },
   "outputs": [
    {
     "name": "stdout",
     "output_type": "stream",
     "text": [
      "pes in SiPM for kR = 3.5\n",
      "pes in SiPM for Qbb blob = 20.8\n",
      "maxpes for 12 bit ADC = 51.1\n"
     ]
    }
   ],
   "source": [
    "nkR = 8.7e+4/20\n",
    "nhkr = nhits(nkR, 1, 10)\n",
    "print(f\"pes in SiPM for kR = {nhkr:.1f}\")\n",
    "print(f\"pes in SiPM for Qbb blob = {6*nhkr:.1f}\")\n",
    "print(f\"maxpes for 12 bit ADC = {maxpes(10, 20):.1f}\")"
   ]
  },
  {
   "cell_type": "markdown",
   "id": "1834b573-423a-4e19-9798-7b3b701dfd01",
   "metadata": {
    "slideshow": {
     "slide_type": "slide"
    },
    "tags": []
   },
   "source": [
    "## DTP for HD (Baseline)?\n",
    "- Does it make sense to build a DTP for HD baseline?\n",
    "- Assumig that S1 is measured by BFD cooling is not necessary, since S2 is measured with a finite number of SiPMs and is a much larger signal than DC.\n",
    "- If S1 is not measured, ZS becomes possible, thus solving the problem of throughput. \n",
    "- The problem of dynamic range remains, though. We need spe for calibration and we cannot afford saturation of S2. This may be solved by using dual channel ADCs.\n",
    "- The cost is larger than the STP, but perhaps affordable. For example, a DTP with SiPMs of 6x6 mm2 would cost 2 M€. A fully tiled DTP would cost 5 M€."
   ]
  },
  {
   "cell_type": "code",
   "execution_count": 106,
   "id": "f606402d-9c89-4884-b391-293872b9ec69",
   "metadata": {},
   "outputs": [
    {
     "name": "stdout",
     "output_type": "stream",
     "text": [
      "cost of DTP silicon (2 planes, f=0.36) 1.06e+06 €\n",
      "cost of DTP electronics) 1.14e+06 €\n"
     ]
    }
   ],
   "source": [
    "print(f\"cost of DTP silicon (2 planes, f=0.36) {2 * 0.36* sipm_cost_mm2* hdtp.dtp.area/mm2:.2e} €\")\n",
    "print(f\"cost of DTP electronics) {2 * 15* hdtp.dtp.n_sipm:.2e} €\")"
   ]
  },
  {
   "cell_type": "code",
   "execution_count": 109,
   "id": "0266a3f4-38c0-479d-bd0a-343370b7abc5",
   "metadata": {},
   "outputs": [
    {
     "name": "stdout",
     "output_type": "stream",
     "text": [
      "cost of DTP silicon (2 planes, f=0.36) 2.94e+06 €\n",
      "cost of DTP electronics) 1.14e+06 €\n"
     ]
    }
   ],
   "source": [
    "print(f\"cost of DTP silicon (2 planes, f=0.36) {2 *  sipm_cost_mm2* hdtp.dtp.area/mm2:.2e} €\")\n",
    "print(f\"cost of DTP electronics) {2 * 15* hdtp.dtp.n_sipm:.2e} €\")"
   ]
  },
  {
   "cell_type": "markdown",
   "id": "5e589504-4e79-46e5-99e1-4c74e4c8ee34",
   "metadata": {
    "slideshow": {
     "slide_type": "slide"
    },
    "tags": []
   },
   "source": [
    "## What would be the added value of DTP?\n",
    "- Same performance in the tracking function than STP (determined by pitch, ~10 mm)\n",
    "- Will provide an additional measurement of the energy, with different corrections (systematics) than BFD.\n",
    "- If energy resolution with a DTP (and in particular with a DTP of 36%) is at least as good as that achieved by the BFD, then the physics argument may is compelling. Energy resolution is one parameter where we have marging for improvements.  \n"
   ]
  },
  {
   "cell_type": "markdown",
   "id": "20ee040e-e4c1-44d4-9b6b-ba51e6ad62d9",
   "metadata": {
    "slideshow": {
     "slide_type": "slide"
    },
    "tags": []
   },
   "source": [
    "## Summary\n",
    "- The \"no TPB\" restriction imposes very hard requirements on our detector and increase the cost of the system by a very large factor. The current exercise reveals that we must have a very compelling argument to impose the TPB veto. \n",
    "- HD Baseline seems sound enough for a detector whose physics goals are to achieve a sensitivity of 10$^{27}$ y in $\\beta\\beta0\\nu$. HDB may operate with a STP or a DTP. "
   ]
  },
  {
   "cell_type": "markdown",
   "id": "16cafa21-7095-4867-ac4f-b438d8406cb1",
   "metadata": {},
   "source": [
    "## A path forward towards HD : HD-DEMO\n",
    "- Test the performance of BFD, STP and DTP in HD-DEMO. The prototype is large enough to provide a good measurement of energy and tracking in the double escape peak of Tl, as well as a full energy calibration, from Kr to Tl. \n",
    "- HD-DEMO is being prepared to operate with a STP and standard (NEXT-White) electronics. The first phase of HD-DEMO operation (~2025 and 2026) would asess the performance of the simplest configuration.\n",
    "- During HD-Demo phase I, we should build a DTP with the goal of operating it in 2027.Operation of the DTP in HD-DEMO would permit us to assess its merits concerning enery resolution.\n",
    "\n"
   ]
  },
  {
   "cell_type": "markdown",
   "id": "c3efd5c1-3487-4947-a03a-f4bad940a03b",
   "metadata": {
    "slideshow": {
     "slide_type": "slide"
    },
    "tags": []
   },
   "source": [
    "## A path forward towards HD : N100-U2\n",
    "- Get the pun? U2 means \"upgrade 2\" (with respect to model 1, e.g, next-100), but also, sends a message. If we are going to succeed as a collaboration, everybody should get involved in U2. You too! \n",
    "- U2 will implement a BFD and new electronics, including a new ASIC. The current plan is to leave NEXT-100 STP. But this is a great opportunity for the groups interested in the DTP to join the effort. Why not build a DTP for U2? New collaborators would be more than welcomed to join the DTP effort.\n",
    "- Given that the cathode is free, there may be even the possibility to add a camera to test CRAB reconstruction of tracks at large scale. \n",
    "- The time-frame of U2 could be 3-4 years (e.g, operation of NEXT-100 until the end of 2027, upgrade in 2028, operation of upgrade in 2029), well timed with the potential availability of xenon from KZ. \n"
   ]
  },
  {
   "cell_type": "markdown",
   "id": "944e45a6-df5e-40c1-b0c4-92d5e892aaeb",
   "metadata": {
    "slideshow": {
     "slide_type": "slide"
    },
    "tags": []
   },
   "source": [
    "## HD White paper.\n",
    "- A CDR (or pre-CDR) may be premature today, but we should produce a document that acts both as a roadmap and as an advertising brochure for potential collaborators.\n",
    "- We could write a White Paper describing (with more detail than in the EOI) the basic elements of HD (this include not-so-sexy things suchs as grids of 2 m and gas system), as well as HD-DEMO and NEXT-100U2. "
   ]
  },
  {
   "cell_type": "code",
   "execution_count": null,
   "id": "508488d3-77d9-4111-9984-5a0c71ebbdd2",
   "metadata": {},
   "outputs": [],
   "source": []
  }
 ],
 "metadata": {
  "kernelspec": {
   "display_name": "Python 3 (ipykernel)",
   "language": "python",
   "name": "python3"
  },
  "language_info": {
   "codemirror_mode": {
    "name": "ipython",
    "version": 3
   },
   "file_extension": ".py",
   "mimetype": "text/x-python",
   "name": "python",
   "nbconvert_exporter": "python",
   "pygments_lexer": "ipython3",
   "version": "3.8.20"
  },
  "toc-showmarkdowntxt": false,
  "toc-showtags": false
 },
 "nbformat": 4,
 "nbformat_minor": 5
}
